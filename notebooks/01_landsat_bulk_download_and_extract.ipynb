{
 "cells": [
  {
   "cell_type": "code",
   "execution_count": null,
   "metadata": {},
   "outputs": [],
   "source": [
    "import os\n",
    "import tarfile\n",
    "from dotenv import load_dotenv\n",
    "from landsatxplore.api import API\n",
    "from landsatxplore.earthexplorer import EarthExplorer"
   ]
  },
  {
   "cell_type": "code",
   "execution_count": null,
   "metadata": {},
   "outputs": [],
   "source": [
    "# Charger les variables d'environnement depuis le fichier .env\n",
    "load_dotenv()\n",
    "\n",
    "# Récupérer les identifiants USGS depuis les variables d'environnement\n",
    "username = os.getenv('USGS_USERNAME')\n",
    "password = os.getenv('USGS_PASSWORD')\n",
    "\n",
    "# Initialiser l'API LandsatXplore\n",
    "api = API(username, password)"
   ]
  },
  {
   "cell_type": "code",
   "execution_count": null,
   "metadata": {},
   "outputs": [],
   "source": [
    "# Rechercher des images Landsat TM (B3 et B4) sur le site de Simandou\n",
    "scenes = api.search(\n",
    "    dataset='LANDSAT_TM_C2_L1',\n",
    "    latitude=9.16,\n",
    "    longitude=-9.16,\n",
    "    start_date='1995-07-01',\n",
    "    end_date='2020-09-01',\n",
    "    max_cloud_cover=10\n",
    ")\n",
    "\n",
    "print(f\"{len(scenes)} scènes trouvées.\")"
   ]
  },
  {
   "cell_type": "code",
   "execution_count": null,
   "metadata": {},
   "outputs": [],
   "source": [
    "# Créer le répertoire de sortie pour les téléchargements\n",
    "output_dir = '../data/raw/landsat'\n",
    "os.makedirs(output_dir, exist_ok=True)\n",
    "\n",
    "# Initialiser EarthExplorer pour le téléchargement\n",
    "ee = EarthExplorer(username, password)"
   ]
  },
  {
   "cell_type": "code",
   "execution_count": null,
   "metadata": {},
   "outputs": [],
   "source": [
    "# Fonction pour extraire uniquement les bandes B3 et B4\n",
    "def extract_b3_b4(tar_path, dest_dir):\n",
    "    \"\"\" Extraction des bandes B3 (Rouge) et B4 (NIR) depuis l'archive TAR \"\"\"\n",
    "    with tarfile.open(tar_path, 'r') as tar:\n",
    "        members = tar.getmembers()\n",
    "        # Filtrer pour ne garder que les fichiers des bandes B3 et B4\n",
    "        b3_b4_members = [m for m in members if '_B3.TIF' in m.name or '_B4.TIF' in m.name]\n",
    "        \n",
    "        # Si on trouve les bandes B3 et B4, on les extrait\n",
    "        if b3_b4_members:\n",
    "            tar.extractall(path=dest_dir, members=b3_b4_members)\n",
    "            print(f\"Bandes B3 et B4 extraites dans : {dest_dir}\")\n",
    "        else:\n",
    "            print(f\"Pas de bandes B3 ou B4 trouvées dans : {tar_path}\")"
   ]
  },
  {
   "cell_type": "code",
   "execution_count": null,
   "metadata": {},
   "outputs": [],
   "source": [
    "# Télécharger et organiser les images par date\n",
    "for scene in scenes:\n",
    "    acquisition_date = scene['acquisition_date'].strftime('%Y-%m-%d')\n",
    "    product_id = scene['landsat_product_id']\n",
    "    print(f\"\\nTéléchargement de la scène : {product_id} pour la date : {acquisition_date}\")\n",
    "    \n",
    "    # Créer un dossier par date\n",
    "    date_dir = os.path.join(output_dir, acquisition_date)\n",
    "    os.makedirs(date_dir, exist_ok=True)\n",
    "    \n",
    "    # Chemin de l'archive TAR à télécharger\n",
    "    tar_path = os.path.join(date_dir, f\"{product_id}.tar\")\n",
    "    \n",
    "    # Télécharger l'image si elle n'existe pas déjà\n",
    "    if not os.path.exists(tar_path):\n",
    "        try:\n",
    "            ee.download(product_id, output_dir=date_dir)\n",
    "            print(f\"Téléchargement terminé : {tar_path}\")\n",
    "            \n",
    "            # Extraire uniquement les bandes B3 et B4\n",
    "            extract_b3_b4(tar_path, date_dir)\n",
    "            \n",
    "            # Supprimer l'archive TAR après extraction\n",
    "            os.remove(tar_path)\n",
    "            print(f\"Archive TAR supprimée : {tar_path}\")\n",
    "            \n",
    "        except Exception as e:\n",
    "            print(f\"Erreur lors du téléchargement de la scène {product_id}: {e}\")\n",
    "    else:\n",
    "        print(f\"La scène {product_id} a déjà été téléchargée.\")\n",
    "        \n",
    "# Déconnexion de l'API et de EarthExplorer\n",
    "api.logout()\n",
    "ee.logout()\n",
    "\n",
    "print(\"\\nTéléchargements terminés et images organisées par date.\")"
   ]
  }
 ],
 "metadata": {
  "kernelspec": {
   "display_name": ".venv",
   "language": "python",
   "name": "python3"
  },
  "language_info": {
   "codemirror_mode": {
    "name": "ipython",
    "version": 3
   },
   "file_extension": ".py",
   "mimetype": "text/x-python",
   "name": "python",
   "nbconvert_exporter": "python",
   "pygments_lexer": "ipython3",
   "version": "3.11.8"
  }
 },
 "nbformat": 4,
 "nbformat_minor": 2
}
