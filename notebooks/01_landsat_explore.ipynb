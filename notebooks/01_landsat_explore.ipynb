{
 "cells": [
  {
   "cell_type": "markdown",
   "metadata": {},
   "source": [
    "# API"
   ]
  },
  {
   "cell_type": "markdown",
   "metadata": {},
   "source": [
    "## EarthExplorer API"
   ]
  },
  {
   "cell_type": "markdown",
   "metadata": {},
   "source": [
    "landsatxplore provides an interface to the Earth Explorer JSON API. Please refer to the official ([documentation](https://earthexplorer.usgs.gov/inventory/documentation/json-api)) for possible request codes and parameters."
   ]
  },
  {
   "cell_type": "markdown",
   "metadata": {},
   "source": [
    "### Basic usage"
   ]
  },
  {
   "cell_type": "code",
   "execution_count": null,
   "metadata": {},
   "outputs": [],
   "source": [
    "\"\"\" from landsatxplore.api import API\n",
    "\n",
    "# Initialize a new API instance and get an access key\n",
    "api = API(USGS_USERNAME, USGS_PASSWORD)\n",
    "\n",
    "# Perform a request. Results are returned in a dictionnary\n",
    "response = api.request(\n",
    "    '<request_endpoint>',\n",
    "    params={\n",
    "        \"param_1\": value_1,\n",
    "        \"param_2\": value_2\n",
    "    }\n",
    ")\n",
    "\n",
    "# Log out\n",
    "api.logout() \"\"\""
   ]
  },
  {
   "cell_type": "markdown",
   "metadata": {},
   "source": [
    "Refer to the official [JSON API Reference](https://m2m.cr.usgs.gov/api/docs/json/) for a list of all available requests."
   ]
  },
  {
   "cell_type": "markdown",
   "metadata": {},
   "source": [
    "### Searching for scenes"
   ]
  },
  {
   "cell_type": "code",
   "execution_count": 15,
   "metadata": {},
   "outputs": [],
   "source": [
    "import json\n",
    "import os\n",
    "from dotenv import load_dotenv\n",
    "from landsatxplore.api import API\n",
    "from landsatxplore.earthexplorer import EarthExplorer"
   ]
  },
  {
   "cell_type": "code",
   "execution_count": 16,
   "metadata": {},
   "outputs": [],
   "source": [
    "# Load environment variables from .env\n",
    "load_dotenv()\n",
    "\n",
    "# Get Credentials from environment variables\n",
    "username = os.getenv('USGS_USERNAME')\n",
    "password = os.getenv('USGS_PASSWORD')"
   ]
  },
  {
   "cell_type": "code",
   "execution_count": null,
   "metadata": {},
   "outputs": [],
   "source": [
    "# Initialize a new API instance and get an access key\n",
    "api = API(username, password)\n",
    "\n",
    "# Search for Landsat TM scenes around Simandou Site (longitude=-9.16, latitude=9.16)\n",
    "scenes = api.search(\n",
    "    dataset='LANDSAT_TM_C2_L1',\n",
    "    latitude=9.16,\n",
    "    longitude=-9.16,\n",
    "    start_date='1995-07-01',\n",
    "    end_date='2020-09-01',\n",
    "    max_cloud_cover=10\n",
    ")\n",
    "\n",
    "print(f\"{len(scenes)} scenes found.\")"
   ]
  },
  {
   "cell_type": "code",
   "execution_count": null,
   "metadata": {},
   "outputs": [],
   "source": [
    "output_dir = '../data/raw/landsat/geojson'\n",
    "os.makedirs(output_dir, exist_ok=True)\n",
    "\n",
    "# Process the result\n",
    "for scene in scenes:\n",
    "    print(scene['acquisition_date'].strftime('%Y-%m-%d'))\n",
    "    # Write scene footprints to disk\n",
    "    fname = os.path.join(output_dir, f\"{scene['landsat_product_id']}.geojson\")\n",
    "    with open(fname, \"w\") as f:\n",
    "        json.dump(scene['spatial_coverage'].__geo_interface__, f)\n",
    "\n",
    "api.logout()\n",
    "\n",
    "print(\"Scènes sauvegardées dans ../data/raw/landsat/geojson\")"
   ]
  },
  {
   "cell_type": "markdown",
   "metadata": {},
   "source": [
    "### Downloading scenes"
   ]
  },
  {
   "cell_type": "code",
   "execution_count": null,
   "metadata": {},
   "outputs": [],
   "source": [
    "output_dir = '../data/raw/landsat'\n",
    "os.makedirs(output_dir, exist_ok=True)\n",
    "\n",
    "ee = EarthExplorer(username, password)\n",
    "ee.download('LT51960471995178MPS00', output_dir=output_dir)\n",
    "ee.logout()\n"
   ]
  }
 ],
 "metadata": {
  "kernelspec": {
   "display_name": ".venv",
   "language": "python",
   "name": "python3"
  },
  "language_info": {
   "codemirror_mode": {
    "name": "ipython",
    "version": 3
   },
   "file_extension": ".py",
   "mimetype": "text/x-python",
   "name": "python",
   "nbconvert_exporter": "python",
   "pygments_lexer": "ipython3",
   "version": "3.11.8"
  }
 },
 "nbformat": 4,
 "nbformat_minor": 2
}
