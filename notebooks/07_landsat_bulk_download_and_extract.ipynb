{
 "cells": [
  {
   "cell_type": "code",
   "execution_count": 1,
   "metadata": {},
   "outputs": [],
   "source": [
    "import os\n",
    "import tarfile\n",
    "from dotenv import load_dotenv\n",
    "from landsatxplore.api import API\n",
    "from landsatxplore.earthexplorer import EarthExplorer"
   ]
  },
  {
   "cell_type": "code",
   "execution_count": 2,
   "metadata": {},
   "outputs": [],
   "source": [
    "# Charger les variables d'environnement depuis le fichier .env\n",
    "load_dotenv()\n",
    "\n",
    "# Récupérer les identifiants USGS depuis les variables d'environnement\n",
    "username = os.getenv('USGS_USERNAME')\n",
    "password = os.getenv('USGS_PASSWORD')\n",
    "\n",
    "# Initialiser l'API LandsatXplore\n",
    "api = API(username, password)"
   ]
  },
  {
   "cell_type": "code",
   "execution_count": 3,
   "metadata": {},
   "outputs": [
    {
     "name": "stdout",
     "output_type": "stream",
     "text": [
      "18 scènes trouvées.\n"
     ]
    }
   ],
   "source": [
    "# Rechercher des images Landsat TM (B3 et B4) sur le site de Simandou\n",
    "scenes = api.search(\n",
    "    dataset='LANDSAT_TM_C2_L1',\n",
    "    latitude=9.16,\n",
    "    longitude=-9.16,\n",
    "    start_date='1995-07-01',\n",
    "    end_date='2020-09-01',\n",
    "    max_cloud_cover=10\n",
    ")\n",
    "\n",
    "print(f\"{len(scenes)} scènes trouvées.\")"
   ]
  },
  {
   "cell_type": "code",
   "execution_count": 4,
   "metadata": {},
   "outputs": [],
   "source": [
    "# Créer le répertoire de sortie pour les téléchargements\n",
    "output_dir = '../data/raw/landsat'\n",
    "os.makedirs(output_dir, exist_ok=True)\n",
    "\n",
    "# Initialiser EarthExplorer pour le téléchargement\n",
    "ee = EarthExplorer(username, password)"
   ]
  },
  {
   "cell_type": "code",
   "execution_count": 5,
   "metadata": {},
   "outputs": [],
   "source": [
    "# Fonction pour extraire uniquement les bandes B3 et B4\n",
    "def extract_b3_b4(tar_path, dest_dir):\n",
    "    \"\"\" Extraction des bandes B3 (Rouge) et B4 (NIR) depuis l'archive TAR \"\"\"\n",
    "    with tarfile.open(tar_path, 'r') as tar:\n",
    "        members = tar.getmembers()\n",
    "        # Filtrer pour ne garder que les fichiers des bandes B3 et B4\n",
    "        b3_b4_members = [m for m in members if '_B3.TIF' in m.name or '_B4.TIF' in m.name]\n",
    "        \n",
    "        # Si on trouve les bandes B3 et B4, on les extrait\n",
    "        if b3_b4_members:\n",
    "            tar.extractall(path=dest_dir, members=b3_b4_members)\n",
    "            print(f\"Bandes B3 et B4 extraites dans : {dest_dir}\")\n",
    "        else:\n",
    "            print(f\"Pas de bandes B3 ou B4 trouvées dans : {tar_path}\")"
   ]
  },
  {
   "cell_type": "code",
   "execution_count": 6,
   "metadata": {},
   "outputs": [
    {
     "name": "stdout",
     "output_type": "stream",
     "text": [
      "\n",
      "Téléchargement de la scène : LT05_L1TP_199054_20111018_20200820_02_T1 pour la date : 2011-10-18\n",
      "Download failed with dataset id 1 of 3. Re-trying with the next one.\n"
     ]
    },
    {
     "name": "stderr",
     "output_type": "stream",
     "text": [
      "100%|██████████| 171M/171M [01:06<00:00, 2.69MB/s] \n"
     ]
    },
    {
     "name": "stdout",
     "output_type": "stream",
     "text": [
      "None of the archived ids succeeded! Update necessary!\n",
      "Erreur lors du téléchargement de la scène LT05_L1TP_199054_20111018_20200820_02_T1: \n",
      "\n",
      "Téléchargement de la scène : LT05_L1TP_199054_20110324_20200823_02_T1 pour la date : 2011-03-24\n",
      "Download failed with dataset id 1 of 3. Re-trying with the next one.\n"
     ]
    },
    {
     "name": "stderr",
     "output_type": "stream",
     "text": [
      "100%|██████████| 208M/208M [01:41<00:00, 2.14MB/s] \n"
     ]
    },
    {
     "name": "stdout",
     "output_type": "stream",
     "text": [
      "None of the archived ids succeeded! Update necessary!\n",
      "Erreur lors du téléchargement de la scène LT05_L1TP_199054_20110324_20200823_02_T1: \n",
      "\n",
      "Téléchargement de la scène : LT05_L1TP_199054_20110220_20200823_02_T1 pour la date : 2011-02-20\n",
      "Download failed with dataset id 1 of 3. Re-trying with the next one.\n"
     ]
    },
    {
     "name": "stderr",
     "output_type": "stream",
     "text": [
      "100%|██████████| 192M/192M [01:23<00:00, 2.41MB/s] \n"
     ]
    },
    {
     "name": "stdout",
     "output_type": "stream",
     "text": [
      "None of the archived ids succeeded! Update necessary!\n",
      "Erreur lors du téléchargement de la scène LT05_L1TP_199054_20110220_20200823_02_T1: \n",
      "\n",
      "Téléchargement de la scène : LT05_L1TP_199054_20110204_20200823_02_T1 pour la date : 2011-02-04\n",
      "Download failed with dataset id 1 of 3. Re-trying with the next one.\n"
     ]
    },
    {
     "name": "stderr",
     "output_type": "stream",
     "text": [
      "100%|██████████| 176M/176M [01:06<00:00, 2.80MB/s] \n"
     ]
    },
    {
     "name": "stdout",
     "output_type": "stream",
     "text": [
      "None of the archived ids succeeded! Update necessary!\n",
      "Erreur lors du téléchargement de la scène LT05_L1TP_199054_20110204_20200823_02_T1: \n",
      "\n",
      "Téléchargement de la scène : LT05_L1TP_199054_20110103_20200823_02_T1 pour la date : 2011-01-03\n",
      "Download failed with dataset id 1 of 3. Re-trying with the next one.\n"
     ]
    },
    {
     "name": "stderr",
     "output_type": "stream",
     "text": [
      "100%|██████████| 163M/163M [01:06<00:00, 2.57MB/s] \n"
     ]
    },
    {
     "name": "stdout",
     "output_type": "stream",
     "text": [
      "None of the archived ids succeeded! Update necessary!\n",
      "Erreur lors du téléchargement de la scène LT05_L1TP_199054_20110103_20200823_02_T1: \n",
      "\n",
      "Téléchargement de la scène : LT05_L1TP_199054_20101218_20200823_02_T1 pour la date : 2010-12-18\n",
      "Download failed with dataset id 1 of 3. Re-trying with the next one.\n"
     ]
    },
    {
     "name": "stderr",
     "output_type": "stream",
     "text": [
      "100%|██████████| 185M/185M [01:09<00:00, 2.79MB/s] \n"
     ]
    },
    {
     "name": "stdout",
     "output_type": "stream",
     "text": [
      "None of the archived ids succeeded! Update necessary!\n",
      "Erreur lors du téléchargement de la scène LT05_L1TP_199054_20101218_20200823_02_T1: \n",
      "\n",
      "Téléchargement de la scène : LT05_L1TP_199054_20101202_20200823_02_T1 pour la date : 2010-12-02\n",
      "Download failed with dataset id 1 of 3. Re-trying with the next one.\n"
     ]
    },
    {
     "name": "stderr",
     "output_type": "stream",
     "text": [
      "215MB [00:43, 5.15MB/s]                            \n"
     ]
    },
    {
     "name": "stdout",
     "output_type": "stream",
     "text": [
      "None of the archived ids succeeded! Update necessary!\n",
      "Erreur lors du téléchargement de la scène LT05_L1TP_199054_20101202_20200823_02_T1: \n",
      "\n",
      "Téléchargement de la scène : LT05_L1TP_199054_20100217_20200825_02_T1 pour la date : 2010-02-17\n",
      "Download failed with dataset id 1 of 3. Re-trying with the next one.\n"
     ]
    },
    {
     "name": "stderr",
     "output_type": "stream",
     "text": [
      "100%|██████████| 191M/191M [00:40<00:00, 4.93MB/s] \n"
     ]
    },
    {
     "name": "stdout",
     "output_type": "stream",
     "text": [
      "None of the archived ids succeeded! Update necessary!\n",
      "Erreur lors du téléchargement de la scène LT05_L1TP_199054_20100217_20200825_02_T1: \n",
      "\n",
      "Téléchargement de la scène : LT05_L1TP_199054_20100201_20200825_02_T1 pour la date : 2010-02-01\n",
      "Download failed with dataset id 1 of 3. Re-trying with the next one.\n"
     ]
    },
    {
     "name": "stderr",
     "output_type": "stream",
     "text": [
      "100%|██████████| 195M/195M [01:15<00:00, 2.72MB/s] \n"
     ]
    },
    {
     "name": "stdout",
     "output_type": "stream",
     "text": [
      "None of the archived ids succeeded! Update necessary!\n",
      "Erreur lors du téléchargement de la scène LT05_L1TP_199054_20100201_20200825_02_T1: \n",
      "\n",
      "Téléchargement de la scène : LT05_L1TP_199054_20100116_20200825_02_T1 pour la date : 2010-01-16\n",
      "Download failed with dataset id 1 of 3. Re-trying with the next one.\n"
     ]
    },
    {
     "name": "stderr",
     "output_type": "stream",
     "text": [
      "100%|██████████| 193M/193M [01:08<00:00, 2.93MB/s] \n"
     ]
    },
    {
     "name": "stdout",
     "output_type": "stream",
     "text": [
      "None of the archived ids succeeded! Update necessary!\n",
      "Erreur lors du téléchargement de la scène LT05_L1TP_199054_20100116_20200825_02_T1: \n",
      "\n",
      "Téléchargement de la scène : LT05_L1TP_199054_20070313_20200830_02_T1 pour la date : 2007-03-13\n",
      "Download failed with dataset id 1 of 3. Re-trying with the next one.\n"
     ]
    },
    {
     "name": "stderr",
     "output_type": "stream",
     "text": [
      "100%|██████████| 180M/180M [01:06<00:00, 2.86MB/s] \n"
     ]
    },
    {
     "name": "stdout",
     "output_type": "stream",
     "text": [
      "None of the archived ids succeeded! Update necessary!\n",
      "Erreur lors du téléchargement de la scène LT05_L1TP_199054_20070313_20200830_02_T1: \n",
      "\n",
      "Téléchargement de la scène : LT05_L1TP_199054_20070225_20200831_02_T1 pour la date : 2007-02-25\n",
      "Download failed with dataset id 1 of 3. Re-trying with the next one.\n"
     ]
    },
    {
     "name": "stderr",
     "output_type": "stream",
     "text": [
      "100%|██████████| 187M/187M [01:12<00:00, 2.72MB/s] \n"
     ]
    },
    {
     "name": "stdout",
     "output_type": "stream",
     "text": [
      "None of the archived ids succeeded! Update necessary!\n",
      "Erreur lors du téléchargement de la scène LT05_L1TP_199054_20070225_20200831_02_T1: \n",
      "\n",
      "Téléchargement de la scène : LT05_L1TP_199054_20070209_20200831_02_T1 pour la date : 2007-02-09\n",
      "Download failed with dataset id 1 of 3. Re-trying with the next one.\n"
     ]
    },
    {
     "name": "stderr",
     "output_type": "stream",
     "text": [
      "100%|██████████| 190M/190M [01:11<00:00, 2.80MB/s] \n"
     ]
    },
    {
     "name": "stdout",
     "output_type": "stream",
     "text": [
      "None of the archived ids succeeded! Update necessary!\n",
      "Erreur lors du téléchargement de la scène LT05_L1TP_199054_20070209_20200831_02_T1: \n",
      "\n",
      "Téléchargement de la scène : LT05_L1TP_199054_20070124_20200831_02_T1 pour la date : 2007-01-24\n",
      "Download failed with dataset id 1 of 3. Re-trying with the next one.\n"
     ]
    },
    {
     "name": "stderr",
     "output_type": "stream",
     "text": [
      "100%|██████████| 185M/185M [00:45<00:00, 4.30MB/s] \n"
     ]
    },
    {
     "name": "stdout",
     "output_type": "stream",
     "text": [
      "None of the archived ids succeeded! Update necessary!\n",
      "Erreur lors du téléchargement de la scène LT05_L1TP_199054_20070124_20200831_02_T1: \n",
      "\n",
      "Téléchargement de la scène : LT05_L1TP_199054_20070108_20200830_02_T1 pour la date : 2007-01-08\n",
      "Download failed with dataset id 1 of 3. Re-trying with the next one.\n"
     ]
    },
    {
     "name": "stderr",
     "output_type": "stream",
     "text": [
      "100%|██████████| 157M/157M [00:38<00:00, 4.27MB/s] \n"
     ]
    },
    {
     "name": "stdout",
     "output_type": "stream",
     "text": [
      "None of the archived ids succeeded! Update necessary!\n",
      "Erreur lors du téléchargement de la scène LT05_L1TP_199054_20070108_20200830_02_T1: \n",
      "\n",
      "Téléchargement de la scène : LT05_L1TP_199054_19981115_20200908_02_T1 pour la date : 1998-11-15\n",
      "Download failed with dataset id 1 of 3. Re-trying with the next one.\n"
     ]
    },
    {
     "name": "stderr",
     "output_type": "stream",
     "text": [
      "100%|██████████| 173M/173M [00:40<00:00, 4.48MB/s] \n"
     ]
    },
    {
     "name": "stdout",
     "output_type": "stream",
     "text": [
      "None of the archived ids succeeded! Update necessary!\n",
      "Erreur lors du téléchargement de la scène LT05_L1TP_199054_19981115_20200908_02_T1: \n",
      "\n",
      "Téléchargement de la scène : LT05_L1TP_199054_19980304_20200909_02_T1 pour la date : 1998-03-04\n",
      "Download failed with dataset id 1 of 3. Re-trying with the next one.\n"
     ]
    },
    {
     "name": "stderr",
     "output_type": "stream",
     "text": [
      "100%|██████████| 179M/179M [00:41<00:00, 4.51MB/s] \n"
     ]
    },
    {
     "name": "stdout",
     "output_type": "stream",
     "text": [
      "None of the archived ids succeeded! Update necessary!\n",
      "Erreur lors du téléchargement de la scène LT05_L1TP_199054_19980304_20200909_02_T1: \n",
      "\n",
      "Téléchargement de la scène : LT05_L1TP_199054_19980216_20200909_02_T1 pour la date : 1998-02-16\n",
      "Download failed with dataset id 1 of 3. Re-trying with the next one.\n"
     ]
    },
    {
     "name": "stderr",
     "output_type": "stream",
     "text": [
      "100%|██████████| 176M/176M [00:41<00:00, 4.45MB/s] \n"
     ]
    },
    {
     "name": "stdout",
     "output_type": "stream",
     "text": [
      "None of the archived ids succeeded! Update necessary!\n",
      "Erreur lors du téléchargement de la scène LT05_L1TP_199054_19980216_20200909_02_T1: \n",
      "\n",
      "Téléchargements terminés et images organisées par date.\n"
     ]
    }
   ],
   "source": [
    "# Télécharger et organiser les images par date\n",
    "for scene in scenes:\n",
    "    acquisition_date = scene['acquisition_date'].strftime('%Y-%m-%d')\n",
    "    product_id = scene['landsat_product_id']\n",
    "    print(f\"\\nTéléchargement de la scène : {product_id} pour la date : {acquisition_date}\")\n",
    "    \n",
    "    # Créer un dossier par date\n",
    "    date_dir = os.path.join(output_dir, acquisition_date)\n",
    "    os.makedirs(date_dir, exist_ok=True)\n",
    "    \n",
    "    # Chemin de l'archive TAR à télécharger\n",
    "    tar_path = os.path.join(date_dir, f\"{product_id}.tar\")\n",
    "    \n",
    "    # Télécharger l'image si elle n'existe pas déjà\n",
    "    if not os.path.exists(tar_path):\n",
    "        try:\n",
    "            ee.download(product_id, output_dir=date_dir)\n",
    "            print(f\"Téléchargement terminé : {tar_path}\")\n",
    "            \n",
    "            # Extraire uniquement les bandes B3 et B4\n",
    "            extract_b3_b4(tar_path, date_dir)\n",
    "            \n",
    "            # Supprimer l'archive TAR après extraction\n",
    "            os.remove(tar_path)\n",
    "            print(f\"Archive TAR supprimée : {tar_path}\")\n",
    "            \n",
    "        except Exception as e:\n",
    "            print(f\"Erreur lors du téléchargement de la scène {product_id}: {e}\")\n",
    "    else:\n",
    "        print(f\"La scène {product_id} a déjà été téléchargée.\")\n",
    "        \n",
    "# Déconnexion de l'API et de EarthExplorer\n",
    "api.logout()\n",
    "ee.logout()\n",
    "\n",
    "print(\"\\nTéléchargements terminés et images organisées par date.\")"
   ]
  }
 ],
 "metadata": {
  "kernelspec": {
   "display_name": ".venv",
   "language": "python",
   "name": "python3"
  },
  "language_info": {
   "codemirror_mode": {
    "name": "ipython",
    "version": 3
   },
   "file_extension": ".py",
   "mimetype": "text/x-python",
   "name": "python",
   "nbconvert_exporter": "python",
   "pygments_lexer": "ipython3",
   "version": "3.11.8"
  }
 },
 "nbformat": 4,
 "nbformat_minor": 2
}
