{
 "cells": [
  {
   "cell_type": "code",
   "execution_count": 1,
   "metadata": {},
   "outputs": [],
   "source": [
    "import cv2\n",
    "import numpy as np\n",
    "import rasterio\n",
    "import matplotlib.pyplot as plt"
   ]
  },
  {
   "cell_type": "code",
   "execution_count": 2,
   "metadata": {},
   "outputs": [],
   "source": [
    "def crop_ndvi_image(ndvi_image_path, output_cropped_image_path):\n",
    "    # Lecture de l'image NDVI\n",
    "    with rasterio.open(ndvi_image_path) as src:\n",
    "        ndvi = src.read(1)\n",
    "    \n",
    "    # Normalisation de l'image pour OpenCV\n",
    "    ndvi_normalized = cv2.normalize(ndvi, None, 0, 255, cv2.NORM_MINMAX).astype('uint8')\n",
    "    \n",
    "    # Détection des contours avec OpenCV\n",
    "    _, thresholded = cv2.threshold(ndvi_normalized, 1, 255, cv2.THRESH_BINARY)\n",
    "    contours, _ = cv2.findContours(thresholded, cv2.RETR_EXTERNAL, cv2.CHAIN_APPROX_SIMPLE)\n",
    "    \n",
    "    # Trouver le contour le plus grand\n",
    "    largest_contour = max(contours, key=cv2.contourArea)\n",
    "    x, y, w, h = cv2.boundingRect(largest_contour)\n",
    "    \n",
    "    # Découpe de l'image\n",
    "    cropped_ndvi = ndvi[y:y+h, x:x+w]\n",
    "    \n",
    "    # Affichage de l'image découpée\n",
    "    plt.imshow(cropped_ndvi, cmap='RdYlGn')\n",
    "    plt.colorbar()\n",
    "    plt.title('NDVI découpé')\n",
    "    plt.show()\n",
    "    \n",
    "    # Sauvegarde de l'image découpée\n",
    "    with rasterio.open(\n",
    "        output_cropped_image_path, \n",
    "        'w', \n",
    "        driver='GTiff', \n",
    "        height=cropped_ndvi.shape[0],\n",
    "        width=cropped_ndvi.shape[1],\n",
    "        count=1,\n",
    "        dtype='float32',\n",
    "        crs=src.crs,\n",
    "        transform=src.transform\n",
    "    ) as dst:\n",
    "        dst.write(cropped_ndvi, 1)\n",
    "    \n",
    "    print(f\"Image NDVI découpée sauvegardée dans {output_cropped_image_path}\")"
   ]
  },
  {
   "cell_type": "code",
   "execution_count": null,
   "metadata": {},
   "outputs": [],
   "source": [
    "if __name__ == \"__main__\":\n",
    "    crop_ndvi_image('output_ndvi.tif', 'output_ndvi_cropped.tif')"
   ]
  }
 ],
 "metadata": {
  "kernelspec": {
   "display_name": "venv",
   "language": "python",
   "name": "python3"
  },
  "language_info": {
   "codemirror_mode": {
    "name": "ipython",
    "version": 3
   },
   "file_extension": ".py",
   "mimetype": "text/x-python",
   "name": "python",
   "nbconvert_exporter": "python",
   "pygments_lexer": "ipython3",
   "version": "3.11.0"
  }
 },
 "nbformat": 4,
 "nbformat_minor": 2
}
