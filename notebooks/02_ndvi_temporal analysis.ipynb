{
 "cells": [
  {
   "cell_type": "code",
   "execution_count": 85,
   "metadata": {},
   "outputs": [],
   "source": [
    "import os\n",
    "import numpy as np\n",
    "import matplotlib.pyplot as plt\n",
    "import cv2\n",
    "import rasterio\n",
    "from datetime import datetime\n",
    "from glob import glob\n",
    "from collections import defaultdict\n",
    "import seaborn as sns\n",
    "import pandas as pd"
   ]
  },
  {
   "cell_type": "code",
   "execution_count": 86,
   "metadata": {},
   "outputs": [],
   "source": [
    "# ================================\n",
    "# Configuration des Répertoires\n",
    "# ================================\n",
    "input_dir = '../data/raw/landsat'\n",
    "cropped_dir = '../data/raw/cropped_straightened'\n",
    "ndvi_output_dir = '../ndvi/ndvi_cropped_straightened_images'\n",
    "os.makedirs(cropped_dir, exist_ok=True)\n",
    "os.makedirs(ndvi_output_dir, exist_ok=True)"
   ]
  },
  {
   "cell_type": "code",
   "execution_count": 87,
   "metadata": {},
   "outputs": [],
   "source": [
    "# ================================\n",
    "# Classes NDVI\n",
    "# ================================\n",
    "ndvi_labels = [\n",
    "    \"Eau\", \n",
    "    \"Sols Nus/Urbain\", \n",
    "    \"Végétation Très Faible\", \n",
    "    \"Végétation Faible\", \n",
    "    \"Végétation Modérée\", \n",
    "    \"Végétation Dense\", \n",
    "    \"Forêt Tropicale\"\n",
    "]"
   ]
  },
  {
   "cell_type": "code",
   "execution_count": 88,
   "metadata": {},
   "outputs": [],
   "source": [
    "# ================================\n",
    "# Chargement des Bandes\n",
    "# ================================\n",
    "def load_bands(red_band_path, nir_band_path):\n",
    "    with rasterio.open(red_band_path) as red_src:\n",
    "        red = red_src.read(1).astype('float64')\n",
    "        red_meta = red_src.meta\n",
    "        \n",
    "    with rasterio.open(nir_band_path) as nir_src:\n",
    "        nir = nir_src.read(1).astype('float64')\n",
    "        \n",
    "    return red, nir, red_meta"
   ]
  },
  {
   "cell_type": "code",
   "execution_count": 89,
   "metadata": {},
   "outputs": [],
   "source": [
    "# ================================\n",
    "# Redressement et Crop des Images\n",
    "# ================================\n",
    "def order_points(pts):\n",
    "    rect = np.zeros((4, 2), dtype=\"float32\")\n",
    "    s = pts.sum(axis=1)\n",
    "    rect[0] = pts[np.argmin(s)]\n",
    "    rect[2] = pts[np.argmax(s)]\n",
    "    diff = np.diff(pts, axis=1)\n",
    "    rect[1] = pts[np.argmin(diff)]\n",
    "    rect[3] = pts[np.argmax(diff)]\n",
    "    return rect\n",
    "\n",
    "def detect_and_straighten(image, date_str, band_name):\n",
    "    norm_image = cv2.normalize(image, None, 0, 255, cv2.NORM_MINMAX).astype('uint8')\n",
    "    _, thresholded = cv2.threshold(norm_image, 1, 255, cv2.THRESH_BINARY)\n",
    "    contours, _ = cv2.findContours(thresholded, cv2.RETR_EXTERNAL, cv2.CHAIN_APPROX_SIMPLE)\n",
    "    largest_contour = max(contours, key=cv2.contourArea)\n",
    "    \n",
    "    epsilon = 0.02 * cv2.arcLength(largest_contour, True)\n",
    "    approx = cv2.approxPolyDP(largest_contour, epsilon, True)\n",
    "    \n",
    "    if len(approx) >= 4:\n",
    "        pts = approx.reshape(-1, 2)\n",
    "        rect = order_points(pts)\n",
    "        \n",
    "        (tl, tr, br, bl) = rect\n",
    "        maxWidth = int(max(np.linalg.norm(br - bl), np.linalg.norm(tr - tl)))\n",
    "        maxHeight = int(max(np.linalg.norm(tr - br), np.linalg.norm(tl - bl)))\n",
    "        \n",
    "        dst = np.array([\n",
    "            [0, 0],\n",
    "            [maxWidth - 1, 0],\n",
    "            [maxWidth - 1, maxHeight - 1],\n",
    "            [0, maxHeight - 1]\n",
    "        ], dtype=\"float32\")\n",
    "        \n",
    "        M = cv2.getPerspectiveTransform(rect, dst)\n",
    "        straightened_image = cv2.warpPerspective(image, M, (maxWidth, maxHeight))\n",
    "        \n",
    "        # Sauvegarde de l'image redressée\n",
    "        save_path = os.path.join(cropped_dir, f\"{date_str}_{band_name}_cropped_straightened.png\")\n",
    "        plt.imsave(save_path, straightened_image, cmap='gray')\n",
    "        \n",
    "        return straightened_image\n",
    "    else:\n",
    "        print(\"Les coins n'ont pas été correctement détectés.\")\n",
    "        return image"
   ]
  },
  {
   "cell_type": "code",
   "execution_count": 90,
   "metadata": {},
   "outputs": [],
   "source": [
    "# ================================\n",
    "# Recadrage à la même taille\n",
    "# ================================\n",
    "def crop_to_same_size(image1, image2):\n",
    "    min_rows = min(image1.shape[0], image2.shape[0])\n",
    "    min_cols = min(image1.shape[1], image2.shape[1])\n",
    "    \n",
    "    image1_cropped = image1[:min_rows, :min_cols]\n",
    "    image2_cropped = image2[:min_rows, :min_cols]\n",
    "    \n",
    "    return image1_cropped, image2_cropped"
   ]
  },
  {
   "cell_type": "code",
   "execution_count": 91,
   "metadata": {},
   "outputs": [],
   "source": [
    "# ================================\n",
    "# Calcul du NDVI\n",
    "# ================================\n",
    "def calculate_ndvi(red, nir):\n",
    "    ndvi = np.where((nir + red) == 0., 0, (nir - red) / (nir + red))\n",
    "    return ndvi\n",
    "\n",
    "def calculate_and_save_ndvi(red, nir, date_str):\n",
    "    ndvi = calculate_ndvi(red, nir)\n",
    "    save_path = os.path.join(ndvi_output_dir, f\"{date_str}_ndvi.png\")\n",
    "    plt.figure(figsize=(10, 8))\n",
    "    plt.imshow(ndvi, cmap='RdYlGn', vmin=-1, vmax=1)\n",
    "    plt.colorbar(label='Valeur NDVI')\n",
    "    plt.title(f'Carte NDVI - {date_str}')\n",
    "    plt.savefig(save_path)\n",
    "    plt.close()\n",
    "    return ndvi"
   ]
  },
  {
   "cell_type": "code",
   "execution_count": 92,
   "metadata": {},
   "outputs": [],
   "source": [
    "# ================================\n",
    "# Classification du NDVI\n",
    "# ================================\n",
    "def classify_ndvi(ndvi):\n",
    "    classes = np.zeros_like(ndvi)\n",
    "    classes = np.where((ndvi <= -0.1), 1, classes)\n",
    "    classes = np.where((ndvi > -0.1) & (ndvi <= 0), 2, classes)\n",
    "    classes = np.where((ndvi > 0) & (ndvi <= 0.2), 3, classes)\n",
    "    classes = np.where((ndvi > 0.2) & (ndvi <= 0.4), 4, classes)\n",
    "    classes = np.where((ndvi > 0.4) & (ndvi <= 0.6), 5, classes)\n",
    "    classes = np.where((ndvi > 0.6) & (ndvi <= 0.8), 6, classes)\n",
    "    classes = np.where((ndvi > 0.8), 7, classes)\n",
    "    return classes.astype(int)\n"
   ]
  },
  {
   "cell_type": "code",
   "execution_count": 93,
   "metadata": {},
   "outputs": [],
   "source": [
    "# ================================\n",
    "# Traitement des Images\n",
    "# ================================\n",
    "def process_images():\n",
    "    ndvi_series = {}\n",
    "    \n",
    "    for date_dir in sorted(glob(os.path.join(input_dir, '*'))):\n",
    "        date_str = os.path.basename(date_dir)\n",
    "        try:\n",
    "            date_obj = datetime.strptime(date_str, '%Y-%m-%d')\n",
    "        except ValueError:\n",
    "            continue\n",
    "        \n",
    "        b3_path = glob(os.path.join(date_dir, '*_B3.TIF'))[0]\n",
    "        b4_path = glob(os.path.join(date_dir, '*_B4.TIF'))[0]\n",
    "        \n",
    "        red, nir, meta_data = load_bands(b3_path, b4_path)\n",
    "        \n",
    "        red_cropped = detect_and_straighten(red, date_str, 'B3_Rouge')\n",
    "        nir_cropped = detect_and_straighten(nir, date_str, 'B4_NIR')\n",
    "        \n",
    "        red_cropped, nir_cropped = crop_to_same_size(red_cropped, nir_cropped)\n",
    "        \n",
    "        ndvi = calculate_and_save_ndvi(red_cropped, nir_cropped, date_str)\n",
    "        ndvi_series[date_obj] = ndvi\n",
    "        \n",
    "    return ndvi_series"
   ]
  },
  {
   "cell_type": "code",
   "execution_count": 94,
   "metadata": {},
   "outputs": [],
   "source": [
    "# ================================\n",
    "# Séries Temporelles par Pixel de 30 m\n",
    "# ================================\n",
    "def temporal_series_by_pixel(ndvi_series):\n",
    "    dates = sorted(ndvi_series.keys())\n",
    "    pixel_means = []\n",
    "\n",
    "    for date in dates:\n",
    "        mean_value = np.mean(ndvi_series[date])\n",
    "        pixel_means.append(mean_value)\n",
    "\n",
    "    plt.figure(figsize=(14, 8))\n",
    "    plt.plot(dates, pixel_means, marker='o', linestyle='-', color='blue')\n",
    "    plt.xlabel('Dates')\n",
    "    plt.ylabel('NDVI Moyen')\n",
    "    plt.title('Évolution Temporelle du NDVI Moyen par Taille de Pixel de 30m')\n",
    "    plt.grid(True)\n",
    "    plt.savefig(os.path.join(ndvi_output_dir, \"temporal_series_by_pixel.png\"))\n",
    "    plt.close()"
   ]
  },
  {
   "cell_type": "code",
   "execution_count": 95,
   "metadata": {},
   "outputs": [],
   "source": [
    "# ================================\n",
    "# Séries Temporelles par Type de Végétation\n",
    "# ================================\n",
    "def temporal_series_by_vegetation(ndvi_series):\n",
    "    dates = sorted(ndvi_series.keys())\n",
    "    class_means = defaultdict(list)\n",
    "    for date in dates:\n",
    "        classified = classify_ndvi(ndvi_series[date])\n",
    "        for i, label in enumerate(ndvi_labels):\n",
    "            class_mean = np.mean(ndvi_series[date][classified == i + 1])\n",
    "            class_means[label].append(class_mean)\n",
    "    \n",
    "    plt.figure(figsize=(14, 8))\n",
    "    for label, values in class_means.items():\n",
    "        plt.plot(dates, values, label=label)\n",
    "    plt.xlabel('Dates')\n",
    "    plt.ylabel('NDVI Moyen')\n",
    "    plt.title('Évolution Temporelle du NDVI Moyen par Type de Végétation')\n",
    "    plt.legend()\n",
    "    plt.grid(True)\n",
    "    plt.savefig(os.path.join(ndvi_output_dir, \"temporal_series_by_vegetation.png\"))\n",
    "    plt.close()"
   ]
  },
  {
   "cell_type": "code",
   "execution_count": 96,
   "metadata": {},
   "outputs": [
    {
     "name": "stderr",
     "output_type": "stream",
     "text": [
      "C:\\Users\\billo.bah\\AppData\\Local\\Temp\\ipykernel_3164\\2316438455.py:5: RuntimeWarning: invalid value encountered in divide\n",
      "  ndvi = np.where((nir + red) == 0., 0, (nir - red) / (nir + red))\n"
     ]
    },
    {
     "name": "stdout",
     "output_type": "stream",
     "text": [
      "Analyse complète terminée.\n"
     ]
    }
   ],
   "source": [
    "# ================================\n",
    "# Fonction Principale\n",
    "# ================================\n",
    "if __name__ == \"__main__\":\n",
    "    ndvi_series = process_images()\n",
    "    temporal_series_by_pixel(ndvi_series)\n",
    "    temporal_series_by_vegetation(ndvi_series)\n",
    "    print(\"Analyse complète terminée.\")"
   ]
  }
 ],
 "metadata": {
  "kernelspec": {
   "display_name": ".venv",
   "language": "python",
   "name": "python3"
  },
  "language_info": {
   "codemirror_mode": {
    "name": "ipython",
    "version": 3
   },
   "file_extension": ".py",
   "mimetype": "text/x-python",
   "name": "python",
   "nbconvert_exporter": "python",
   "pygments_lexer": "ipython3",
   "version": "3.11.8"
  }
 },
 "nbformat": 4,
 "nbformat_minor": 2
}
